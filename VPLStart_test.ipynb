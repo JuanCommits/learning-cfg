{
 "cells": [
  {
   "cell_type": "code",
   "execution_count": null,
   "id": "de91efbf",
   "metadata": {},
   "outputs": [],
   "source": [
    "from vpl_extraction.vpl_star import VPLStar\n",
    "from examples.dyck1 import Dyck1"
   ]
  },
  {
   "cell_type": "code",
   "execution_count": null,
   "id": "6b8293ff",
   "metadata": {},
   "outputs": [],
   "source": [
    "dyck1_grammar = Dyck1()\n",
    "\n",
    "vpl_star = VPLStar(dyck1_grammar)"
   ]
  },
  {
   "cell_type": "code",
   "execution_count": null,
   "id": "4f1bbb3d",
   "metadata": {},
   "outputs": [],
   "source": [
    "result = vpl_star.learn()"
   ]
  },
  {
   "cell_type": "code",
   "execution_count": null,
   "id": "4c8a4029",
   "metadata": {},
   "outputs": [],
   "source": [
    "print(str(result.tree_automaton))"
   ]
  },
  {
   "cell_type": "code",
   "execution_count": null,
   "id": "479dc53f",
   "metadata": {},
   "outputs": [],
   "source": [
    "from models.vpg import vpg_from_tree_automata\n",
    "\n",
    "vpg = vpg_from_tree_automata(result.tree_automaton, dyck1_grammar.alphabet)\n",
    "\n",
    "print(vpg.print_grammar())"
   ]
  },
  {
   "cell_type": "code",
   "execution_count": null,
   "id": "4fce964a",
   "metadata": {},
   "outputs": [],
   "source": [
    "print(len(result.tree_automaton.states))"
   ]
  },
  {
   "cell_type": "code",
   "execution_count": null,
   "id": "48e04fcf",
   "metadata": {},
   "outputs": [],
   "source": [
    "for k, v in result.tree_automaton.transitions.items():\n",
    "    print(f\"{k} - Val {v}\")"
   ]
  },
  {
   "cell_type": "code",
   "execution_count": null,
   "id": "81227602",
   "metadata": {},
   "outputs": [],
   "source": [
    "random_word_count = 10000\n",
    "counterexample = False\n",
    "for _ in range(random_word_count):\n",
    "    word = dyck1_grammar.get_random_word()\n",
    "    \n",
    "    if result.is_accepted(word) != dyck1_grammar.is_accepted(word):\n",
    "        print(f\"VPLStar does not match Dyck1 for the word: {word}\")\n",
    "        counterexample = True\n",
    "        break\n",
    "\n",
    "if not counterexample:\n",
    "    print(\"VPLStar matches Dyck1 for all tested words.\")"
   ]
  },
  {
   "cell_type": "code",
   "execution_count": null,
   "id": "01d6ff05",
   "metadata": {},
   "outputs": [],
   "source": [
    "alphabet = Dyck1().alphabet"
   ]
  },
  {
   "cell_type": "code",
   "execution_count": null,
   "id": "46d2288e",
   "metadata": {},
   "outputs": [],
   "source": [
    "from experiments.transformer_checker_wrapper import TransformerWrapper\n",
    "\n",
    "transformer = TransformerWrapper(\n",
    "    metadata_path='./experiments/models/metadata/transformer_model.json',\n",
    "    alphabet=alphabet\n",
    ")"
   ]
  },
  {
   "cell_type": "code",
   "execution_count": null,
   "id": "49862ca5",
   "metadata": {},
   "outputs": [],
   "source": [
    "from vpl_extraction.vpl_star_random_comparator import VPLRandomComparator\n",
    "comparator = VPLRandomComparator(\n",
    "    alphabet=alphabet,\n",
    "    random_trees=30,\n",
    "    max_depth=3\n",
    ")"
   ]
  },
  {
   "cell_type": "code",
   "execution_count": null,
   "id": "9adb90e7",
   "metadata": {},
   "outputs": [],
   "source": [
    "vpl_star = VPLStar(transformer, comparator)"
   ]
  },
  {
   "cell_type": "code",
   "execution_count": null,
   "id": "f89ee780",
   "metadata": {},
   "outputs": [],
   "source": [
    "res = vpl_star.learn()"
   ]
  },
  {
   "cell_type": "code",
   "execution_count": null,
   "id": "93b0c108",
   "metadata": {},
   "outputs": [],
   "source": [
    "vpg = vpg_from_tree_automata(res.tree_automaton, alphabet)\n",
    "\n",
    "print(vpg.print_grammar())"
   ]
  },
  {
   "cell_type": "code",
   "execution_count": null,
   "id": "c1e53e1e",
   "metadata": {},
   "outputs": [],
   "source": []
  }
 ],
 "metadata": {
  "kernelspec": {
   "display_name": "TransformerExtraction",
   "language": "python",
   "name": "python3"
  },
  "language_info": {
   "codemirror_mode": {
    "name": "ipython",
    "version": 3
   },
   "file_extension": ".py",
   "mimetype": "text/x-python",
   "name": "python",
   "nbconvert_exporter": "python",
   "pygments_lexer": "ipython3",
   "version": "3.10.14"
  }
 },
 "nbformat": 4,
 "nbformat_minor": 5
}
