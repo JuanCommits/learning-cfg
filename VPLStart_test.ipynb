{
 "cells": [
  {
   "cell_type": "code",
   "execution_count": 1,
   "id": "de91efbf",
   "metadata": {},
   "outputs": [],
   "source": [
    "from vpl_extraction.vpl_star import VPLStar\n",
    "from examples.dyck1 import Dyck1"
   ]
  },
  {
   "cell_type": "code",
   "execution_count": 2,
   "id": "6b8293ff",
   "metadata": {},
   "outputs": [],
   "source": [
    "dyck1_grammar = Dyck1()\n",
    "\n",
    "vpl_star = VPLStar(dyck1_grammar)"
   ]
  },
  {
   "cell_type": "code",
   "execution_count": 3,
   "id": "4f1bbb3d",
   "metadata": {},
   "outputs": [],
   "source": [
    "result = vpl_star.learn()"
   ]
  },
  {
   "cell_type": "code",
   "execution_count": 4,
   "id": "4c8a4029",
   "metadata": {},
   "outputs": [
    {
     "name": "stdout",
     "output_type": "stream",
     "text": [
      "TreeAutomata( \n",
      " -- states=['ε []', ') [\") [\\'ε []\\']\"]', \") ['ε []']\"] \n",
      " -- final_states=['ε []'] \n",
      " -- transitions=['Key(), [\") [\\'ε []\\']\"])', 'Key(ε, [])', 'Key((, [\\'ε []\\', \") [\\'ε []\\']\"])', 'Key((, [\") [\\'ε []\\']\", \") [\\'ε []\\']\"])', \"Key(), ['ε []'])\", 'Key((, [\") [\\'ε []\\']\", \\'ε []\\'])'] \n",
      ")\n"
     ]
    }
   ],
   "source": [
    "print(str(result.tree_automaton))"
   ]
  },
  {
   "cell_type": "code",
   "execution_count": 5,
   "id": "479dc53f",
   "metadata": {},
   "outputs": [
    {
     "name": "stdout",
     "output_type": "stream",
     "text": [
      "Grammar VPG\n",
      "Variables: q1, q0, q2\n",
      "Start Symbols: ε []\n",
      "Rules:\n",
      "q0 -> ε    # epsilon\n",
      "q0 -> ( q0 ) q0    # push-pop\n",
      "q2 -> ( q2 ) q0    # push-pop\n",
      "\n",
      "\n",
      "Variable Map:\n",
      "ε [] -> q0\n",
      ") [\") ['ε []']\"] -> q1\n",
      ") ['ε []'] -> q2\n",
      "\n"
     ]
    }
   ],
   "source": [
    "from models.vpg import vpg_from_tree_automata\n",
    "\n",
    "vpg = vpg_from_tree_automata(result.tree_automaton, dyck1_grammar.alphabet)\n",
    "\n",
    "print(vpg.print_grammar())"
   ]
  },
  {
   "cell_type": "code",
   "execution_count": 6,
   "id": "4fce964a",
   "metadata": {},
   "outputs": [
    {
     "name": "stdout",
     "output_type": "stream",
     "text": [
      "3\n"
     ]
    }
   ],
   "source": [
    "print(len(result.tree_automaton.states))"
   ]
  },
  {
   "cell_type": "code",
   "execution_count": 7,
   "id": "48e04fcf",
   "metadata": {},
   "outputs": [
    {
     "name": "stdout",
     "output_type": "stream",
     "text": [
      "Key(), [\") ['ε []']\"]) - Val ) [\") ['ε []']\"]\n",
      "Key(ε, []) - Val ε []\n",
      "Key((, ['ε []', \") ['ε []']\"]) - Val ε []\n",
      "Key((, [\") ['ε []']\", \") ['ε []']\"]) - Val ) ['ε []']\n",
      "Key(), ['ε []']) - Val ) ['ε []']\n",
      "Key((, [\") ['ε []']\", 'ε []']) - Val ε []\n"
     ]
    }
   ],
   "source": [
    "for k, v in result.tree_automaton.transitions.items():\n",
    "    print(f\"{k} - Val {v}\")"
   ]
  },
  {
   "cell_type": "code",
   "execution_count": 8,
   "id": "81227602",
   "metadata": {},
   "outputs": [
    {
     "name": "stdout",
     "output_type": "stream",
     "text": [
      "VPLStar matches Dyck1 for all tested words.\n"
     ]
    }
   ],
   "source": [
    "random_word_count = 10000\n",
    "counterexample = False\n",
    "for _ in range(random_word_count):\n",
    "    word = dyck1_grammar.get_random_word()\n",
    "    \n",
    "    if result.is_accepted(word) != dyck1_grammar.is_accepted(word):\n",
    "        print(f\"VPLStar does not match Dyck1 for the word: {word}\")\n",
    "        counterexample = True\n",
    "        break\n",
    "\n",
    "if not counterexample:\n",
    "    print(\"VPLStar matches Dyck1 for all tested words.\")"
   ]
  },
  {
   "cell_type": "code",
   "execution_count": 5,
   "id": "46d2288e",
   "metadata": {},
   "outputs": [
    {
     "name": "stderr",
     "output_type": "stream",
     "text": [
      "/Users/juanpe/miniconda3/envs/TransformerExtraction/lib/python3.10/site-packages/tqdm/auto.py:21: TqdmWarning: IProgress not found. Please update jupyter and ipywidgets. See https://ipywidgets.readthedocs.io/en/stable/user_install.html\n",
      "  from .autonotebook import tqdm as notebook_tqdm\n"
     ]
    }
   ],
   "source": [
    "import torch\n",
    "import json\n",
    "from base.vpl import VPL\n",
    "from transformer_checker.transformer import (\n",
    "    TransformerClassifier,\n",
    "    TransformerClassifierConfig\n",
    ")\n",
    "\n",
    "class TransformerWrapper(VPL):\n",
    "    def __init__(self, metadata_path: str, tokenizer, alphabet):\n",
    "        self.tokenizer = tokenizer\n",
    "        self.alphabet = alphabet\n",
    "\n",
    "        self.metadata = self._load_metadata(metadata_path)\n",
    "        self.model = self._load_model(self.metadata)\n",
    "\n",
    "    \n",
    "    def _load_metadata(self, metadata_path: str) -> dict:\n",
    "        # Load metadata from the specified path\n",
    "        with open(metadata_path, 'r') as file:\n",
    "            metadata = json.loads(file.read())\n",
    "\n",
    "        return metadata\n",
    "\n",
    "    \n",
    "    def _load_model(self, metadata: dict) -> TransformerClassifier:\n",
    "        config = metadata.get('model_config', None)\n",
    "\n",
    "        if config is None:\n",
    "            raise ValueError(\"Metadata does not contain 'config' key.\")\n",
    "\n",
    "        model_config = TransformerClassifierConfig(\n",
    "            **config\n",
    "        )\n",
    "\n",
    "        model = TransformerClassifier(\n",
    "            config=model_config\n",
    "        )\n",
    "\n",
    "        model_weights_path = metadata.get('wheigts_path', None)\n",
    "        if model_weights_path is None:\n",
    "            raise ValueError(\"Metadata does not contain 'weights_path' key.\")\n",
    "\n",
    "        model_weights = torch.load(model_weights_path)\n",
    "        model.load_state_dict(model_weights)\n",
    "        return model\n",
    "    \n",
    "    \n",
    "    def is_accepted(self, sequence: str) -> bool:\n",
    "        return self.model(sequence)\n",
    "    "
   ]
  },
  {
   "cell_type": "code",
   "execution_count": 6,
   "id": "e8c38a72",
   "metadata": {},
   "outputs": [
    {
     "name": "stderr",
     "output_type": "stream",
     "text": [
      "Failed to detect the name of this notebook, you can set it manually with the WANDB_NOTEBOOK_NAME environment variable to enable code saving.\n",
      "\u001b[34m\u001b[1mwandb\u001b[0m: Currently logged in as: \u001b[33mjuancommits\u001b[0m. Use \u001b[1m`wandb login --relogin`\u001b[0m to force relogin\n"
     ]
    },
    {
     "data": {
      "text/html": [
       "Tracking run with wandb version 0.17.9"
      ],
      "text/plain": [
       "<IPython.core.display.HTML object>"
      ]
     },
     "metadata": {},
     "output_type": "display_data"
    },
    {
     "data": {
      "text/html": [
       "Run data is saved locally in <code>/Users/juanpe/Study/Master/Tree Automata/learning-cfg/wandb/run-20250803_200815-e4fsiv2b</code>"
      ],
      "text/plain": [
       "<IPython.core.display.HTML object>"
      ]
     },
     "metadata": {},
     "output_type": "display_data"
    },
    {
     "data": {
      "text/html": [
       "Syncing run <strong><a href='https://wandb.ai/juancommits/transformer-checker/runs/e4fsiv2b' target=\"_blank\">rich-microwave-16</a></strong> to <a href='https://wandb.ai/juancommits/transformer-checker' target=\"_blank\">Weights & Biases</a> (<a href='https://wandb.me/run' target=\"_blank\">docs</a>)<br/>"
      ],
      "text/plain": [
       "<IPython.core.display.HTML object>"
      ]
     },
     "metadata": {},
     "output_type": "display_data"
    },
    {
     "data": {
      "text/html": [
       " View project at <a href='https://wandb.ai/juancommits/transformer-checker' target=\"_blank\">https://wandb.ai/juancommits/transformer-checker</a>"
      ],
      "text/plain": [
       "<IPython.core.display.HTML object>"
      ]
     },
     "metadata": {},
     "output_type": "display_data"
    },
    {
     "data": {
      "text/html": [
       " View run at <a href='https://wandb.ai/juancommits/transformer-checker/runs/e4fsiv2b' target=\"_blank\">https://wandb.ai/juancommits/transformer-checker/runs/e4fsiv2b</a>"
      ],
      "text/plain": [
       "<IPython.core.display.HTML object>"
      ]
     },
     "metadata": {},
     "output_type": "display_data"
    },
    {
     "ename": "RuntimeError",
     "evalue": "Error(s) in loading state_dict for TransformerClassifier:\n\tsize mismatch for embedding.weight: copying a param with shape torch.Size([5, 256]) from checkpoint, the shape in current model is torch.Size([8, 256]).",
     "output_type": "error",
     "traceback": [
      "\u001b[0;31m---------------------------------------------------------------------------\u001b[0m",
      "\u001b[0;31mRuntimeError\u001b[0m                              Traceback (most recent call last)",
      "Cell \u001b[0;32mIn[6], line 1\u001b[0m\n\u001b[0;32m----> 1\u001b[0m t \u001b[38;5;241m=\u001b[39m \u001b[43mTransformerWrapper\u001b[49m\u001b[43m(\u001b[49m\n\u001b[1;32m      2\u001b[0m \u001b[43m    \u001b[49m\u001b[43mmetadata_path\u001b[49m\u001b[38;5;241;43m=\u001b[39;49m\u001b[38;5;124;43m'\u001b[39;49m\u001b[38;5;124;43m./experiments/models/metadata/transformer_model.json\u001b[39;49m\u001b[38;5;124;43m'\u001b[39;49m\u001b[43m,\u001b[49m\n\u001b[1;32m      3\u001b[0m \u001b[43m    \u001b[49m\u001b[43mtokenizer\u001b[49m\u001b[38;5;241;43m=\u001b[39;49m\u001b[38;5;28;43;01mNone\u001b[39;49;00m\u001b[43m,\u001b[49m\u001b[43m  \u001b[49m\u001b[38;5;66;43;03m# Replace with actual tokenizer if needed\u001b[39;49;00m\n\u001b[1;32m      4\u001b[0m \u001b[43m    \u001b[49m\u001b[43malphabet\u001b[49m\u001b[38;5;241;43m=\u001b[39;49m\u001b[43m[\u001b[49m\u001b[38;5;124;43m'\u001b[39;49m\u001b[38;5;124;43m(\u001b[39;49m\u001b[38;5;124;43m'\u001b[39;49m\u001b[43m,\u001b[49m\u001b[43m \u001b[49m\u001b[38;5;124;43m'\u001b[39;49m\u001b[38;5;124;43m)\u001b[39;49m\u001b[38;5;124;43m'\u001b[39;49m\u001b[43m]\u001b[49m\u001b[43m  \u001b[49m\u001b[38;5;66;43;03m# Replace with actual alphabet if needed\u001b[39;49;00m\n\u001b[1;32m      5\u001b[0m \u001b[43m)\u001b[49m\n",
      "Cell \u001b[0;32mIn[5], line 15\u001b[0m, in \u001b[0;36mTransformerWrapper.__init__\u001b[0;34m(self, metadata_path, tokenizer, alphabet)\u001b[0m\n\u001b[1;32m     12\u001b[0m \u001b[38;5;28mself\u001b[39m\u001b[38;5;241m.\u001b[39malphabet \u001b[38;5;241m=\u001b[39m alphabet\n\u001b[1;32m     14\u001b[0m \u001b[38;5;28mself\u001b[39m\u001b[38;5;241m.\u001b[39mmetadata \u001b[38;5;241m=\u001b[39m \u001b[38;5;28mself\u001b[39m\u001b[38;5;241m.\u001b[39m_load_metadata(metadata_path)\n\u001b[0;32m---> 15\u001b[0m \u001b[38;5;28mself\u001b[39m\u001b[38;5;241m.\u001b[39mmodel \u001b[38;5;241m=\u001b[39m \u001b[38;5;28;43mself\u001b[39;49m\u001b[38;5;241;43m.\u001b[39;49m\u001b[43m_load_model\u001b[49m\u001b[43m(\u001b[49m\u001b[38;5;28;43mself\u001b[39;49m\u001b[38;5;241;43m.\u001b[39;49m\u001b[43mmetadata\u001b[49m\u001b[43m)\u001b[49m\n",
      "Cell \u001b[0;32mIn[5], line 45\u001b[0m, in \u001b[0;36mTransformerWrapper._load_model\u001b[0;34m(self, metadata)\u001b[0m\n\u001b[1;32m     42\u001b[0m     \u001b[38;5;28;01mraise\u001b[39;00m \u001b[38;5;167;01mValueError\u001b[39;00m(\u001b[38;5;124m\"\u001b[39m\u001b[38;5;124mMetadata does not contain \u001b[39m\u001b[38;5;124m'\u001b[39m\u001b[38;5;124mweights_path\u001b[39m\u001b[38;5;124m'\u001b[39m\u001b[38;5;124m key.\u001b[39m\u001b[38;5;124m\"\u001b[39m)\n\u001b[1;32m     44\u001b[0m model_weights \u001b[38;5;241m=\u001b[39m torch\u001b[38;5;241m.\u001b[39mload(model_weights_path)\n\u001b[0;32m---> 45\u001b[0m \u001b[43mmodel\u001b[49m\u001b[38;5;241;43m.\u001b[39;49m\u001b[43mload_state_dict\u001b[49m\u001b[43m(\u001b[49m\u001b[43mmodel_weights\u001b[49m\u001b[43m)\u001b[49m\n\u001b[1;32m     46\u001b[0m \u001b[38;5;28;01mreturn\u001b[39;00m model\n",
      "File \u001b[0;32m~/miniconda3/envs/TransformerExtraction/lib/python3.10/site-packages/torch/nn/modules/module.py:2189\u001b[0m, in \u001b[0;36mModule.load_state_dict\u001b[0;34m(self, state_dict, strict, assign)\u001b[0m\n\u001b[1;32m   2184\u001b[0m         error_msgs\u001b[38;5;241m.\u001b[39minsert(\n\u001b[1;32m   2185\u001b[0m             \u001b[38;5;241m0\u001b[39m, \u001b[38;5;124m'\u001b[39m\u001b[38;5;124mMissing key(s) in state_dict: \u001b[39m\u001b[38;5;132;01m{}\u001b[39;00m\u001b[38;5;124m. \u001b[39m\u001b[38;5;124m'\u001b[39m\u001b[38;5;241m.\u001b[39mformat(\n\u001b[1;32m   2186\u001b[0m                 \u001b[38;5;124m'\u001b[39m\u001b[38;5;124m, \u001b[39m\u001b[38;5;124m'\u001b[39m\u001b[38;5;241m.\u001b[39mjoin(\u001b[38;5;124mf\u001b[39m\u001b[38;5;124m'\u001b[39m\u001b[38;5;124m\"\u001b[39m\u001b[38;5;132;01m{\u001b[39;00mk\u001b[38;5;132;01m}\u001b[39;00m\u001b[38;5;124m\"\u001b[39m\u001b[38;5;124m'\u001b[39m \u001b[38;5;28;01mfor\u001b[39;00m k \u001b[38;5;129;01min\u001b[39;00m missing_keys)))\n\u001b[1;32m   2188\u001b[0m \u001b[38;5;28;01mif\u001b[39;00m \u001b[38;5;28mlen\u001b[39m(error_msgs) \u001b[38;5;241m>\u001b[39m \u001b[38;5;241m0\u001b[39m:\n\u001b[0;32m-> 2189\u001b[0m     \u001b[38;5;28;01mraise\u001b[39;00m \u001b[38;5;167;01mRuntimeError\u001b[39;00m(\u001b[38;5;124m'\u001b[39m\u001b[38;5;124mError(s) in loading state_dict for \u001b[39m\u001b[38;5;132;01m{}\u001b[39;00m\u001b[38;5;124m:\u001b[39m\u001b[38;5;130;01m\\n\u001b[39;00m\u001b[38;5;130;01m\\t\u001b[39;00m\u001b[38;5;132;01m{}\u001b[39;00m\u001b[38;5;124m'\u001b[39m\u001b[38;5;241m.\u001b[39mformat(\n\u001b[1;32m   2190\u001b[0m                        \u001b[38;5;28mself\u001b[39m\u001b[38;5;241m.\u001b[39m\u001b[38;5;18m__class__\u001b[39m\u001b[38;5;241m.\u001b[39m\u001b[38;5;18m__name__\u001b[39m, \u001b[38;5;124m\"\u001b[39m\u001b[38;5;130;01m\\n\u001b[39;00m\u001b[38;5;130;01m\\t\u001b[39;00m\u001b[38;5;124m\"\u001b[39m\u001b[38;5;241m.\u001b[39mjoin(error_msgs)))\n\u001b[1;32m   2191\u001b[0m \u001b[38;5;28;01mreturn\u001b[39;00m _IncompatibleKeys(missing_keys, unexpected_keys)\n",
      "\u001b[0;31mRuntimeError\u001b[0m: Error(s) in loading state_dict for TransformerClassifier:\n\tsize mismatch for embedding.weight: copying a param with shape torch.Size([5, 256]) from checkpoint, the shape in current model is torch.Size([8, 256])."
     ]
    }
   ],
   "source": [
    "t = TransformerWrapper(\n",
    "    metadata_path='./experiments/models/metadata/transformer_model.json',\n",
    "    tokenizer=None,  # Replace with actual tokenizer if needed\n",
    "    alphabet=['(', ')']  # Replace with actual alphabet if needed\n",
    ")"
   ]
  },
  {
   "cell_type": "code",
   "execution_count": null,
   "id": "076f59fb",
   "metadata": {},
   "outputs": [],
   "source": []
  }
 ],
 "metadata": {
  "kernelspec": {
   "display_name": "TransformerExtraction",
   "language": "python",
   "name": "python3"
  },
  "language_info": {
   "codemirror_mode": {
    "name": "ipython",
    "version": 3
   },
   "file_extension": ".py",
   "mimetype": "text/x-python",
   "name": "python",
   "nbconvert_exporter": "python",
   "pygments_lexer": "ipython3",
   "version": "3.10.14"
  }
 },
 "nbformat": 4,
 "nbformat_minor": 5
}
