{
 "cells": [
  {
   "cell_type": "code",
   "execution_count": 1,
   "id": "de91efbf",
   "metadata": {},
   "outputs": [],
   "source": [
    "from vpl_extraction.vpl_star import VPLStar\n",
    "from examples.dyck1 import Dyck1"
   ]
  },
  {
   "cell_type": "code",
   "execution_count": 2,
   "id": "6b8293ff",
   "metadata": {},
   "outputs": [],
   "source": [
    "dyck1_grammar = Dyck1()\n",
    "\n",
    "vpl_star = VPLStar(dyck1_grammar)"
   ]
  },
  {
   "cell_type": "code",
   "execution_count": 3,
   "id": "4f1bbb3d",
   "metadata": {},
   "outputs": [],
   "source": [
    "result = vpl_star.learn()"
   ]
  },
  {
   "cell_type": "code",
   "execution_count": null,
   "id": "81227602",
   "metadata": {},
   "outputs": [
    {
     "name": "stdout",
     "output_type": "stream",
     "text": [
      "VPLStar matches Dyck1 for all tested words.\n"
     ]
    }
   ],
   "source": [
    "random_word_count = 10000\n",
    "counterexample = False\n",
    "for _ in range(random_word_count):\n",
    "    word = dyck1_grammar.get_random_word()\n",
    "    \n",
    "    if result.is_accepted(word) != dyck1_grammar.is_accepted(word):\n",
    "        print(f\"VPLStar does not match Dyck1 for the word: {word}\")\n",
    "        counterexample = True\n",
    "        break\n",
    "\n",
    "if not counterexample:\n",
    "    print(\"VPLStar matches Dyck1 for all tested words.\")"
   ]
  }
 ],
 "metadata": {
  "kernelspec": {
   "display_name": "TransformerExtraction",
   "language": "python",
   "name": "python3"
  },
  "language_info": {
   "codemirror_mode": {
    "name": "ipython",
    "version": 3
   },
   "file_extension": ".py",
   "mimetype": "text/x-python",
   "name": "python",
   "nbconvert_exporter": "python",
   "pygments_lexer": "ipython3",
   "version": "3.10.14"
  }
 },
 "nbformat": 4,
 "nbformat_minor": 5
}
