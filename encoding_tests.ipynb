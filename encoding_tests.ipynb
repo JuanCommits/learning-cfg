{
 "cells": [
  {
   "cell_type": "code",
   "execution_count": null,
   "id": "244aa8c1",
   "metadata": {},
   "outputs": [],
   "source": [
    "from base.tree import Tree, TreeSymbol, empty_tree\n",
    "from utils.encoding import tree_2_sequence, sequence_2_tree\n",
    "from base.alphabet import VPAlphabet"
   ]
  },
  {
   "cell_type": "code",
   "execution_count": 2,
   "id": "63f6aa42",
   "metadata": {},
   "outputs": [],
   "source": [
    "open = '('\n",
    "close = ')'\n",
    "internal = 'i'\n",
    "\n",
    "alphabet = VPAlphabet({open}, {close}, {internal})"
   ]
  },
  {
   "cell_type": "code",
   "execution_count": 3,
   "id": "afb1e0d4",
   "metadata": {},
   "outputs": [],
   "source": [
    "t = Tree(TreeSymbol(open, 2), [Tree(TreeSymbol(internal, 1), [empty_tree]), Tree(TreeSymbol(close, 1), [empty_tree])])"
   ]
  },
  {
   "cell_type": "code",
   "execution_count": 4,
   "id": "9fccd788",
   "metadata": {},
   "outputs": [
    {
     "name": "stdout",
     "output_type": "stream",
     "text": [
      "(i)\n"
     ]
    }
   ],
   "source": [
    "s = tree_2_sequence(t, alphabet)\n",
    "print(s)"
   ]
  },
  {
   "cell_type": "code",
   "execution_count": 5,
   "id": "4a838a15",
   "metadata": {},
   "outputs": [
    {
     "name": "stdout",
     "output_type": "stream",
     "text": [
      "( [\"i ['ε []']\", \") ['ε []']\"]\n"
     ]
    }
   ],
   "source": [
    "converted_tree = sequence_2_tree(s, alphabet)\n",
    "\n",
    "print(str(converted_tree))"
   ]
  },
  {
   "cell_type": "code",
   "execution_count": 6,
   "id": "f69b739c",
   "metadata": {},
   "outputs": [],
   "source": [
    "alphabet = VPAlphabet({'(', \"[\", \"{\"}, {\")\", \"]\", \"}\"}, {\"a\", \"b\", \"c\"})"
   ]
  },
  {
   "cell_type": "code",
   "execution_count": 7,
   "id": "84f66b47",
   "metadata": {},
   "outputs": [],
   "source": [
    "ct = sequence_2_tree(\"(b{a}c)\", alphabet)"
   ]
  },
  {
   "cell_type": "code",
   "execution_count": 8,
   "id": "cfb53f35",
   "metadata": {},
   "outputs": [],
   "source": [
    "cs = tree_2_sequence(ct, alphabet)"
   ]
  },
  {
   "cell_type": "code",
   "execution_count": 10,
   "id": "ee76022f",
   "metadata": {},
   "outputs": [
    {
     "data": {
      "text/plain": [
       "'(b{a}c)'"
      ]
     },
     "execution_count": 10,
     "metadata": {},
     "output_type": "execute_result"
    }
   ],
   "source": [
    "cs"
   ]
  }
 ],
 "metadata": {
  "kernelspec": {
   "display_name": "TransformerExtraction",
   "language": "python",
   "name": "python3"
  },
  "language_info": {
   "codemirror_mode": {
    "name": "ipython",
    "version": 3
   },
   "file_extension": ".py",
   "mimetype": "text/x-python",
   "name": "python",
   "nbconvert_exporter": "python",
   "pygments_lexer": "ipython3",
   "version": "3.10.14"
  }
 },
 "nbformat": 4,
 "nbformat_minor": 5
}
